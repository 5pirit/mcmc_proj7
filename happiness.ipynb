{
 "cells": [
  {
   "cell_type": "code",
   "execution_count": null,
   "metadata": {
    "collapsed": false
   },
   "outputs": [],
   "source": [
    "import var_selection\n",
    "import pandas as pd\n",
    "import numpy as np\n",
    "import matplotlib.pyplot as plt\n",
    "pd.set_option('display.float_format', lambda x: '%.3f' % x)\n",
    "np.set_printoptions(precision=4)"
   ]
  },
  {
   "cell_type": "code",
   "execution_count": null,
   "metadata": {
    "collapsed": false
   },
   "outputs": [],
   "source": [
    "pd.set_option('display.float_format', lambda x: '%.3f' % x)\n",
    "\n",
    "dataset = pd.read_csv('./data/happyness_data.csv', delimiter=' ')[['happy','money','sex','love','work']]\n",
    "X = dataset[['money','sex','love','work']]\n",
    "y = dataset[['happy']]\n",
    "corrMat = X.corr()\n",
    "print('Covariate sample correlation matrix:\\n'+str(corrMat))"
   ]
  },
  {
   "cell_type": "markdown",
   "metadata": {},
   "source": [
    "#### Value are identical to those in the paper (page 16)."
   ]
  },
  {
   "cell_type": "code",
   "execution_count": null,
   "metadata": {
    "collapsed": false
   },
   "outputs": [],
   "source": [
    "[Evals, Evecs] = np.linalg.eig(corrMat)\n",
    "print('Eigenvalues of Covariate sample correlation matrix: \\n'+str(Evals))"
   ]
  },
  {
   "cell_type": "markdown",
   "metadata": {},
   "source": [
    "#### Value are identical to those in the paper (page 16)."
   ]
  },
  {
   "cell_type": "code",
   "execution_count": null,
   "metadata": {
    "collapsed": false
   },
   "outputs": [],
   "source": [
    "# convert pandas to numpy\n",
    "if type(X) == pd.DataFrame:\n",
    "    X = np.concatenate([X.as_matrix(), np.ones([X.shape[0],1])], axis = 1)\n",
    "    y = y.as_matrix()"
   ]
  },
  {
   "cell_type": "code",
   "execution_count": null,
   "metadata": {
    "collapsed": false
   },
   "outputs": [],
   "source": [
    "pd.set_option('display.float_format', lambda x: '%.5f' % x)\n",
    "\n",
    "# ordinary least squares solutions\n",
    "OLS_β = np.dot( np.linalg.inv(np.dot(X.T, X)), np.dot(X.T, y))\n",
    "\n",
    "#error = y - X.dot(OLS_β)\n",
    "#error = error.T.dot(error)\n",
    "\n",
    "OLS_β_std = np.linalg.inv(np.dot(X.T, X))\n",
    "\n",
    "# priors for τ_star\n",
    "delta_happiness = 4.\n",
    "delta_money = 50.\n",
    "delta_sex = 0.5\n",
    "delta_love = 1.\n",
    "delta_work = 2.\n",
    "\n",
    "τ_star = np.atleast_2d(delta_happiness / np.array([delta_money,delta_sex,delta_love,delta_work])).T\n",
    "\n",
    "stats = np.concatenate([OLS_β[:-1], np.sqrt(np.atleast_2d(np.diag(OLS_β_std)[:-1]).T), τ_star], axis = 1)\n",
    "\n",
    "stats = pd.DataFrame(stats, columns = ['OLS coefficient','OLS standard error', 'prior std τ*'], index = ['money','sex','love','work'])\n",
    "print(stats)"
   ]
  },
  {
   "cell_type": "markdown",
   "metadata": {},
   "source": [
    "#### These values are very similar to those in the paper (page 16).  "
   ]
  },
  {
   "cell_type": "code",
   "execution_count": null,
   "metadata": {
    "collapsed": false
   },
   "outputs": [],
   "source": [
    "# Formulas found here: https://pdfs.semanticscholar.org/3ace/886849dd48eb911b0491d70ef3ec197f9234.pdf\n",
    "SS_reg = (OLS_β.T.dot(X.T.dot(y)) - (1./X.shape[0])*(np.ones_like(y).T.dot(y))**2)[0,0]\n",
    "SS_total = (y.T.dot(y) - (1./X.shape[0])*(np.ones_like(y).T.dot(y))**2)[0,0]\n",
    "print('multiple correlation coef: {:.3f}'.format(SS_reg/SS_total))"
   ]
  },
  {
   "cell_type": "markdown",
   "metadata": {},
   "source": [
    "#### According to the paper the prior mean of the multiple correlation coefficient is 0.75. (?)"
   ]
  },
  {
   "cell_type": "code",
   "execution_count": null,
   "metadata": {
    "collapsed": false
   },
   "outputs": [],
   "source": [
    "\"\"\"\n",
    "β_zero = np.array([0, 0])\n",
    "var_zero = 10000\n",
    "p = np.array([0.5, 0.5])\n",
    "τ = np.ones_like(β_zero)\n",
    "υ = -10 * np.ones_like(β_zero)\n",
    "λ = 10 * np.ones_like(β_zero)\n",
    "ν = 2\n",
    "iterations = 1000\n",
    "\"\"\"\n",
    "β = np.array([0,0,0,0,0]) #np.zeros([5,1])\n",
    "ϵ_squared = 2.5**2\n",
    "p = np.array([0.5,0.5,0.5,0.5,0]) #np.concatenate([0.5 * np.ones([4,1]), np.zeros([1,1])])\n",
    "τ = np.concatenate([τ_star, 9 * np.ones([1,1])]) #np.ones_like(β)\n",
    "#υ = -10 * np.ones_like(β) #np.ones([5,1]) * 10e5\n",
    "υ = np.ones([5,1]) * 10e3\n",
    "#λ = 10 * np.ones_like(β)# np.concatenate([0.1*np.ones([1,1]), 10e10 * np.ones([4,1])])\n",
    "λ = np.concatenate([0*np.ones([4,1]), -1000 * np.ones([1,1])])\n",
    "ν = 0.01\n",
    "iterations = 1000"
   ]
  },
  {
   "cell_type": "code",
   "execution_count": null,
   "metadata": {
    "collapsed": false,
    "scrolled": true
   },
   "outputs": [],
   "source": [
    "# TN (lambda, υ)\n",
    "\"\"\"\n",
    "X: numpy.ndarray\n",
    "y: numpy.ndarray\n",
    "β: numpy.ndarray\n",
    "ϵ_squared : scalar\n",
    "p: iterable\n",
    "τ: numpy.ndarray\n",
    "v: scalar\n",
    "ν: iterable\n",
    "λ: iterable\n",
    "iterations: scalar\n",
    "\"\"\"\n",
    "result = var_selection.variable_selection(X, y, β, ϵ_squared, p, τ, ν, υ, λ, iterations)"
   ]
  },
  {
   "cell_type": "code",
   "execution_count": null,
   "metadata": {
    "collapsed": false
   },
   "outputs": [],
   "source": [
    "result[0]"
   ]
  },
  {
   "cell_type": "code",
   "execution_count": null,
   "metadata": {
    "collapsed": true
   },
   "outputs": [],
   "source": []
  }
 ],
 "metadata": {
  "anaconda-cloud": {},
  "kernelspec": {
   "display_name": "Python 3",
   "language": "python",
   "name": "python3"
  },
  "language_info": {
   "codemirror_mode": {
    "name": "ipython",
    "version": 3
   },
   "file_extension": ".py",
   "mimetype": "text/x-python",
   "name": "python",
   "nbconvert_exporter": "python",
   "pygments_lexer": "ipython3",
   "version": "3.4.3"
  }
 },
 "nbformat": 4,
 "nbformat_minor": 1
}
