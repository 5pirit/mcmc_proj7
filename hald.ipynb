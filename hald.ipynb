{
 "cells": [
  {
   "cell_type": "code",
   "execution_count": 2,
   "metadata": {
    "collapsed": true
   },
   "outputs": [],
   "source": [
    "import var_selection\n",
    "import pandas as pd\n",
    "import numpy as np\n",
    "import matplotlib.pyplot as plt"
   ]
  },
  {
   "cell_type": "code",
   "execution_count": 15,
   "metadata": {},
   "outputs": [
    {
     "name": "stdout",
     "output_type": "stream",
     "text": [
      "     Heat  Tricalcium_aluminate  Tricalcium_silicate  \\\n",
      "0    78.5                     7                   26   \n",
      "1    74.3                     1                   29   \n",
      "2   104.3                    11                   56   \n",
      "3    87.6                    11                   31   \n",
      "4    95.9                     7                   52   \n",
      "5   109.2                    11                   55   \n",
      "6   102.7                     3                   71   \n",
      "7    72.5                     1                   31   \n",
      "8    93.1                     2                   54   \n",
      "9   115.9                    21                   47   \n",
      "10   83.8                     1                   40   \n",
      "11  113.3                    11                   66   \n",
      "12  109.4                    10                   68   \n",
      "\n",
      "    Tetracalcium_alumino_ferrite  Dicalcium_silicate  \n",
      "0                              6                   6  \n",
      "1                             15                  52  \n",
      "2                              8                  20  \n",
      "3                              8                  47  \n",
      "4                              6                  33  \n",
      "5                              9                  22  \n",
      "6                             17                   6  \n",
      "7                             22                  44  \n",
      "8                             18                  22  \n",
      "9                              4                  26  \n",
      "10                            23                  34  \n",
      "11                             9                  12  \n",
      "12                             8                  12  \n"
     ]
    }
   ],
   "source": [
    "print(dataset)\n"
   ]
  },
  {
   "cell_type": "code",
   "execution_count": 16,
   "metadata": {},
   "outputs": [
    {
     "name": "stdout",
     "output_type": "stream",
     "text": [
      "Covariate sample correlation matrix:\n",
      "                              Tricalcium_aluminate  Tricalcium_silicate  \\\n",
      "Tricalcium_aluminate                      1.000000             0.228579   \n",
      "Tricalcium_silicate                       0.228579             1.000000   \n",
      "Tetracalcium_alumino_ferrite             -0.824134            -0.139242   \n",
      "Dicalcium_silicate                       -0.245239            -0.645150   \n",
      "\n",
      "                              Tetracalcium_alumino_ferrite  Dicalcium_silicate  \n",
      "Tricalcium_aluminate                             -0.824134           -0.245239  \n",
      "Tricalcium_silicate                              -0.139242           -0.645150  \n",
      "Tetracalcium_alumino_ferrite                      1.000000            0.296988  \n",
      "Dicalcium_silicate                                0.296988            1.000000  \n"
     ]
    }
   ],
   "source": [
    "dataset = pd.read_csv('./data/hald_data.csv', delimiter='\\t')\n",
    "X = dataset[['Tricalcium_aluminate','Tricalcium_silicate','Tetracalcium_alumino_ferrite','Dicalcium_silicate']]\n",
    "y = dataset[['Heat']]\n",
    "corrMat = X.corr()\n",
    "print('Covariate sample correlation matrix:\\n'+str(corrMat))"
   ]
  },
  {
   "cell_type": "code",
   "execution_count": 17,
   "metadata": {
    "scrolled": true
   },
   "outputs": [
    {
     "name": "stdout",
     "output_type": "stream",
     "text": [
      "Eigenvalues of Covariate sample correlation matrix: \n",
      "[ 2.20088742  1.27454268  0.15083888  0.37373102]\n"
     ]
    }
   ],
   "source": [
    "[Evals, Evecs] = np.linalg.eig(corrMat)\n",
    "print('Eigenvalues of Covariate sample correlation matrix: \\n'+str(Evals))"
   ]
  },
  {
   "cell_type": "code",
   "execution_count": 18,
   "metadata": {},
   "outputs": [],
   "source": [
    "X = np.concatenate([X.as_matrix(), np.ones([X.shape[0],1])], axis = 1)\n",
    "y = y.as_matrix()"
   ]
  },
  {
   "cell_type": "code",
   "execution_count": 19,
   "metadata": {},
   "outputs": [
    {
     "name": "stdout",
     "output_type": "stream",
     "text": [
      "Least squares coefficients: \n",
      "[[ 1.69345325]\n",
      " [ 0.65952843]\n",
      " [ 0.24612004]\n",
      " [ 0.00413696]]\n",
      "Least squares standard error: \n",
      "[ 0.08980409  0.02523084  0.08357131  0.02603663]\n"
     ]
    }
   ],
   "source": [
    "OLS_β = np.dot( np.linalg.inv(np.dot(X.T, X)), np.dot(X.T, y))\n",
    "OLS_β_std = np.linalg.inv(np.dot(X.T, X))\n",
    "print('Least squares coefficients: \\n' + str(OLS_β[:-1]))\n",
    "print('Least squares standard error: \\n'+str(np.sqrt(np.diag(OLS_β_std[:,:-1]))))"
   ]
  },
  {
   "cell_type": "code",
   "execution_count": 28,
   "metadata": {},
   "outputs": [],
   "source": [
    "delta_Heat = 20.\n",
    "delta_Tricalcium_aluminate = 10.\n",
    "delta_Tricalcium_silicate = 22.5\n",
    "delta_Tetracalcium_alumino_ferrite = 8.5\n",
    "delta_Dicalcium_silicate = 27."
   ]
  },
  {
   "cell_type": "code",
   "execution_count": 29,
   "metadata": {},
   "outputs": [
    {
     "name": "stdout",
     "output_type": "stream",
     "text": [
      "[ 2.          0.88888889  2.35294118  0.74074074]\n"
     ]
    }
   ],
   "source": [
    "τ_star = delta_Heat / np.array([delta_Tricalcium_aluminate,delta_Tricalcium_silicate,delta_Tetracalcium_alumino_ferrite,delta_Dicalcium_silicate])\n",
    "print(τ_star)"
   ]
  },
  {
   "cell_type": "code",
   "execution_count": 29,
   "metadata": {
    "collapsed": true
   },
   "outputs": [],
   "source": [
    "E = y - np.dot(X, OLS_β)"
   ]
  },
  {
   "cell_type": "code",
   "execution_count": 30,
   "metadata": {},
   "outputs": [
    {
     "data": {
      "text/plain": [
       "-1.0555658911051489e-14"
      ]
     },
     "execution_count": 30,
     "metadata": {},
     "output_type": "execute_result"
    }
   ],
   "source": [
    "np.mean(E)"
   ]
  },
  {
   "cell_type": "code",
   "execution_count": 30,
   "metadata": {
    "collapsed": true
   },
   "outputs": [],
   "source": [
    "β = np.zeros([5,1])\n",
    "ϵ_squared = 2.5\n",
    "p = np.concatenate([0.5 * np.ones([4,1]), np.zeros([1,1])])\n",
    "τ = np.concatenate([np.atleast_2d(τ_star).T, 9 * np.ones([1,1])])\n",
    "v = 0.01\n",
    "ν = np.ones([5,1]) * 10e5\n",
    "λ = np.concatenate([0.1*np.ones([1,1]), 10e10 * np.ones([4,1])])\n",
    "iterations = 10"
   ]
  },
  {
   "cell_type": "code",
   "execution_count": 31,
   "metadata": {},
   "outputs": [
    {
     "data": {
      "text/plain": [
       "(5, 1)"
      ]
     },
     "execution_count": 31,
     "metadata": {},
     "output_type": "execute_result"
    }
   ],
   "source": [
    "τ.shape"
   ]
  },
  {
   "cell_type": "code",
   "execution_count": 34,
   "metadata": {},
   "outputs": [
    {
     "name": "stderr",
     "output_type": "stream",
     "text": [
      "C:\\Users\\huang\\Anaconda3\\lib\\site-packages\\scipy\\stats\\_continuous_distns.py:4838: RuntimeWarning: invalid value encountered in log\n",
      "  self._logdelta = np.log(self._delta)\n",
      "C:\\Users\\huang\\Anaconda3\\lib\\site-packages\\scipy\\stats\\_continuous_distns.py:4838: RuntimeWarning: divide by zero encountered in log\n",
      "  self._logdelta = np.log(self._delta)\n",
      "C:\\Users\\huang\\Desktop\\mcmc_proj7-master\\var_selection.py:36: RuntimeWarning: invalid value encountered in multiply\n",
      "  bf *= sp_norm.cdf((υ - β_bar)/σ_star) - sp_norm.cdf((λ - β_bar)/σ_star)\n",
      "C:\\Users\\huang\\Desktop\\mcmc_proj7-master\\var_selection.py:42: RuntimeWarning: invalid value encountered in greater_equal\n",
      "  if np.random.rand() <= p:\n"
     ]
    },
    {
     "ename": "ValueError",
     "evalue": "Domain error in arguments.",
     "output_type": "error",
     "traceback": [
      "\u001b[1;31m---------------------------------------------------------------------------\u001b[0m",
      "\u001b[1;31mValueError\u001b[0m                                Traceback (most recent call last)",
      "\u001b[1;32m<ipython-input-34-3efa60a5f2b6>\u001b[0m in \u001b[0;36m<module>\u001b[1;34m()\u001b[0m\n\u001b[0;32m     11\u001b[0m \u001b[0miterations\u001b[0m\u001b[1;33m:\u001b[0m \u001b[0mscalar\u001b[0m\u001b[1;33m\u001b[0m\u001b[0m\n\u001b[0;32m     12\u001b[0m \"\"\"\n\u001b[1;32m---> 13\u001b[1;33m \u001b[0mvar_selection\u001b[0m\u001b[1;33m.\u001b[0m\u001b[0mvariable_selection\u001b[0m\u001b[1;33m(\u001b[0m\u001b[0mX\u001b[0m\u001b[1;33m,\u001b[0m \u001b[0my\u001b[0m\u001b[1;33m,\u001b[0m \u001b[0mβ\u001b[0m\u001b[1;33m,\u001b[0m \u001b[0mϵ_squared\u001b[0m\u001b[1;33m,\u001b[0m \u001b[0mp\u001b[0m\u001b[1;33m,\u001b[0m \u001b[0mτ\u001b[0m\u001b[1;33m,\u001b[0m \u001b[0mv\u001b[0m\u001b[1;33m,\u001b[0m \u001b[0mν\u001b[0m\u001b[1;33m,\u001b[0m \u001b[0mλ\u001b[0m\u001b[1;33m,\u001b[0m \u001b[1;36m10\u001b[0m\u001b[1;33m)\u001b[0m\u001b[1;33m\u001b[0m\u001b[0m\n\u001b[0m",
      "\u001b[1;32mC:\\Users\\huang\\Desktop\\mcmc_proj7-master\\var_selection.py\u001b[0m in \u001b[0;36mvariable_selection\u001b[1;34m(X, y, β, var, p, τ, ν, υ, λ, iterations, verbose)\u001b[0m\n\u001b[0;32m     88\u001b[0m             \u001b[1;31m# p[j] = p_bar\u001b[0m\u001b[1;33m\u001b[0m\u001b[1;33m\u001b[0m\u001b[0m\n\u001b[0;32m     89\u001b[0m             \u001b[0mprobs\u001b[0m\u001b[1;33m[\u001b[0m\u001b[0mi\u001b[0m\u001b[1;33m,\u001b[0m \u001b[0mj\u001b[0m\u001b[1;33m]\u001b[0m \u001b[1;33m=\u001b[0m \u001b[0mp_bar\u001b[0m\u001b[1;33m\u001b[0m\u001b[0m\n\u001b[1;32m---> 90\u001b[1;33m             \u001b[0mβ\u001b[0m\u001b[1;33m[\u001b[0m\u001b[0mj\u001b[0m\u001b[1;33m]\u001b[0m \u001b[1;33m=\u001b[0m \u001b[0msample_β\u001b[0m\u001b[1;33m(\u001b[0m\u001b[0mβ_bar\u001b[0m\u001b[1;33m,\u001b[0m \u001b[0mp_bar\u001b[0m\u001b[1;33m,\u001b[0m \u001b[0mυ\u001b[0m\u001b[1;33m[\u001b[0m\u001b[0mj\u001b[0m\u001b[1;33m]\u001b[0m\u001b[1;33m,\u001b[0m \u001b[0mλ\u001b[0m\u001b[1;33m[\u001b[0m\u001b[0mj\u001b[0m\u001b[1;33m]\u001b[0m\u001b[1;33m,\u001b[0m \u001b[0mvar_star\u001b[0m\u001b[1;33m)\u001b[0m\u001b[1;33m\u001b[0m\u001b[0m\n\u001b[0m\u001b[0;32m     91\u001b[0m             \u001b[0mchain\u001b[0m\u001b[1;33m[\u001b[0m\u001b[0mi\u001b[0m\u001b[1;33m,\u001b[0m \u001b[0mj\u001b[0m\u001b[1;33m]\u001b[0m \u001b[1;33m=\u001b[0m \u001b[0mβ\u001b[0m\u001b[1;33m[\u001b[0m\u001b[0mj\u001b[0m\u001b[1;33m]\u001b[0m\u001b[1;33m\u001b[0m\u001b[0m\n\u001b[0;32m     92\u001b[0m \u001b[1;33m\u001b[0m\u001b[0m\n",
      "\u001b[1;32mC:\\Users\\huang\\Desktop\\mcmc_proj7-master\\var_selection.py\u001b[0m in \u001b[0;36msample_β\u001b[1;34m(β_bar, p, υ, λ, τ)\u001b[0m\n\u001b[0;32m     43\u001b[0m         \u001b[1;32mreturn\u001b[0m \u001b[1;36m0\u001b[0m\u001b[1;33m\u001b[0m\u001b[0m\n\u001b[0;32m     44\u001b[0m     \u001b[1;32melse\u001b[0m\u001b[1;33m:\u001b[0m\u001b[1;33m\u001b[0m\u001b[0m\n\u001b[1;32m---> 45\u001b[1;33m \u001b[1;32mreturn\u001b[0m \u001b[0mtruncnorm\u001b[0m\u001b[1;33m(\u001b[0m\u001b[0ma\u001b[0m\u001b[1;33m=\u001b[0m\u001b[0mλ\u001b[0m\u001b[1;33m,\u001b[0m \u001b[0mb\u001b[0m\u001b[1;33m=\u001b[0m\u001b[0mυ\u001b[0m\u001b[1;33m,\u001b[0m \u001b[0mloc\u001b[0m\u001b[1;33m=\u001b[0m\u001b[0mβ_bar\u001b[0m\u001b[1;33m,\u001b[0m \u001b[0mscale\u001b[0m\u001b[1;33m=\u001b[0m\u001b[0mτ\u001b[0m\u001b[1;33m)\u001b[0m\u001b[1;33m.\u001b[0m\u001b[0mrvs\u001b[0m\u001b[1;33m(\u001b[0m\u001b[1;33m)\u001b[0m\u001b[1;33m\u001b[0m\u001b[0m\n\u001b[0m\u001b[0;32m     46\u001b[0m \u001b[1;33m\u001b[0m\u001b[0m\n\u001b[0;32m     47\u001b[0m \u001b[1;33m\u001b[0m\u001b[0m\n",
      "\u001b[1;32mC:\\Users\\huang\\Anaconda3\\lib\\site-packages\\scipy\\stats\\_distn_infrastructure.py\u001b[0m in \u001b[0;36mrvs\u001b[1;34m(self, size, random_state)\u001b[0m\n\u001b[0;32m    468\u001b[0m         \u001b[0mkwds\u001b[0m \u001b[1;33m=\u001b[0m \u001b[0mself\u001b[0m\u001b[1;33m.\u001b[0m\u001b[0mkwds\u001b[0m\u001b[1;33m.\u001b[0m\u001b[0mcopy\u001b[0m\u001b[1;33m(\u001b[0m\u001b[1;33m)\u001b[0m\u001b[1;33m\u001b[0m\u001b[0m\n\u001b[0;32m    469\u001b[0m         \u001b[0mkwds\u001b[0m\u001b[1;33m.\u001b[0m\u001b[0mupdate\u001b[0m\u001b[1;33m(\u001b[0m\u001b[1;33m{\u001b[0m\u001b[1;34m'size'\u001b[0m\u001b[1;33m:\u001b[0m \u001b[0msize\u001b[0m\u001b[1;33m,\u001b[0m \u001b[1;34m'random_state'\u001b[0m\u001b[1;33m:\u001b[0m \u001b[0mrandom_state\u001b[0m\u001b[1;33m}\u001b[0m\u001b[1;33m)\u001b[0m\u001b[1;33m\u001b[0m\u001b[0m\n\u001b[1;32m--> 470\u001b[1;33m         \u001b[1;32mreturn\u001b[0m \u001b[0mself\u001b[0m\u001b[1;33m.\u001b[0m\u001b[0mdist\u001b[0m\u001b[1;33m.\u001b[0m\u001b[0mrvs\u001b[0m\u001b[1;33m(\u001b[0m\u001b[1;33m*\u001b[0m\u001b[0mself\u001b[0m\u001b[1;33m.\u001b[0m\u001b[0margs\u001b[0m\u001b[1;33m,\u001b[0m \u001b[1;33m**\u001b[0m\u001b[0mkwds\u001b[0m\u001b[1;33m)\u001b[0m\u001b[1;33m\u001b[0m\u001b[0m\n\u001b[0m\u001b[0;32m    471\u001b[0m \u001b[1;33m\u001b[0m\u001b[0m\n\u001b[0;32m    472\u001b[0m     \u001b[1;32mdef\u001b[0m \u001b[0msf\u001b[0m\u001b[1;33m(\u001b[0m\u001b[0mself\u001b[0m\u001b[1;33m,\u001b[0m \u001b[0mx\u001b[0m\u001b[1;33m)\u001b[0m\u001b[1;33m:\u001b[0m\u001b[1;33m\u001b[0m\u001b[0m\n",
      "\u001b[1;32mC:\\Users\\huang\\Anaconda3\\lib\\site-packages\\scipy\\stats\\_distn_infrastructure.py\u001b[0m in \u001b[0;36mrvs\u001b[1;34m(self, *args, **kwds)\u001b[0m\n\u001b[0;32m    938\u001b[0m         \u001b[0mcond\u001b[0m \u001b[1;33m=\u001b[0m \u001b[0mlogical_and\u001b[0m\u001b[1;33m(\u001b[0m\u001b[0mself\u001b[0m\u001b[1;33m.\u001b[0m\u001b[0m_argcheck\u001b[0m\u001b[1;33m(\u001b[0m\u001b[1;33m*\u001b[0m\u001b[0margs\u001b[0m\u001b[1;33m)\u001b[0m\u001b[1;33m,\u001b[0m \u001b[1;33m(\u001b[0m\u001b[0mscale\u001b[0m \u001b[1;33m>=\u001b[0m \u001b[1;36m0\u001b[0m\u001b[1;33m)\u001b[0m\u001b[1;33m)\u001b[0m\u001b[1;33m\u001b[0m\u001b[0m\n\u001b[0;32m    939\u001b[0m         \u001b[1;32mif\u001b[0m \u001b[1;32mnot\u001b[0m \u001b[0mnp\u001b[0m\u001b[1;33m.\u001b[0m\u001b[0mall\u001b[0m\u001b[1;33m(\u001b[0m\u001b[0mcond\u001b[0m\u001b[1;33m)\u001b[0m\u001b[1;33m:\u001b[0m\u001b[1;33m\u001b[0m\u001b[0m\n\u001b[1;32m--> 940\u001b[1;33m             \u001b[1;32mraise\u001b[0m \u001b[0mValueError\u001b[0m\u001b[1;33m(\u001b[0m\u001b[1;34m\"Domain error in arguments.\"\u001b[0m\u001b[1;33m)\u001b[0m\u001b[1;33m\u001b[0m\u001b[0m\n\u001b[0m\u001b[0;32m    941\u001b[0m \u001b[1;33m\u001b[0m\u001b[0m\n\u001b[0;32m    942\u001b[0m         \u001b[1;32mif\u001b[0m \u001b[0mnp\u001b[0m\u001b[1;33m.\u001b[0m\u001b[0mall\u001b[0m\u001b[1;33m(\u001b[0m\u001b[0mscale\u001b[0m \u001b[1;33m==\u001b[0m \u001b[1;36m0\u001b[0m\u001b[1;33m)\u001b[0m\u001b[1;33m:\u001b[0m\u001b[1;33m\u001b[0m\u001b[0m\n",
      "\u001b[1;31mValueError\u001b[0m: Domain error in arguments."
     ]
    }
   ],
   "source": [
    "\"\"\"\n",
    "X: numpy.ndarray\n",
    "y: numpy.ndarray\n",
    "β: numpy.ndarray\n",
    "ϵ_squared : scalar\n",
    "p: iterable\n",
    "τ: numpy.ndarray\n",
    "v: scalar\n",
    "ν: iterable\n",
    "λ: iterable\n",
    "iterations: scalar\n",
    "\"\"\"\n",
    "var_selection.variable_selection(X, y, β, ϵ_squared, p, τ, v, ν, λ, 10)"
   ]
  },
  {
   "cell_type": "code",
   "execution_count": 33,
   "metadata": {},
   "outputs": [
    {
     "data": {
      "text/plain": [
       "(13, 5)"
      ]
     },
     "execution_count": 33,
     "metadata": {},
     "output_type": "execute_result"
    }
   ],
   "source": [
    "X.shape"
   ]
  },
  {
   "cell_type": "code",
   "execution_count": null,
   "metadata": {
    "collapsed": true
   },
   "outputs": [],
   "source": []
  }
 ],
 "metadata": {
  "anaconda-cloud": {},
  "kernelspec": {
   "display_name": "Python 3",
   "language": "python",
   "name": "python3"
  },
  "language_info": {
   "codemirror_mode": {
    "name": "ipython",
    "version": 3
   },
   "file_extension": ".py",
   "mimetype": "text/x-python",
   "name": "python",
   "nbconvert_exporter": "python",
   "pygments_lexer": "ipython3",
   "version": "3.6.1"
  }
 },
 "nbformat": 4,
 "nbformat_minor": 1
}
